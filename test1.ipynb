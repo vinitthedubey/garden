{
 "cells": [
  {
   "cell_type": "code",
   "execution_count": 7,
   "metadata": {},
   "outputs": [
    {
     "data": {
      "text/plain": [
       "9"
      ]
     },
     "execution_count": 7,
     "metadata": {},
     "output_type": "execute_result"
    }
   ],
   "source": [
    "3+6"
   ]
  },
  {
   "cell_type": "code",
   "execution_count": 9,
   "metadata": {},
   "outputs": [
    {
     "ename": "AttributeError",
     "evalue": "module 'httpcore' has no attribute 'NetworkBackend'",
     "output_type": "error",
     "traceback": [
      "\u001b[1;31m---------------------------------------------------------------------------\u001b[0m",
      "\u001b[1;31mAttributeError\u001b[0m                            Traceback (most recent call last)",
      "Cell \u001b[1;32mIn[9], line 1\u001b[0m\n\u001b[1;32m----> 1\u001b[0m \u001b[38;5;28;01mfrom\u001b[39;00m\u001b[38;5;250m \u001b[39m\u001b[38;5;21;01mpymongo\u001b[39;00m\u001b[38;5;250m \u001b[39m\u001b[38;5;28;01mimport\u001b[39;00m MongoClient\n",
      "File \u001b[1;32md:\\anaconda\\lib\\site-packages\\pymongo\\__init__.py:92\u001b[0m\n\u001b[0;32m     90\u001b[0m \u001b[38;5;28;01mfrom\u001b[39;00m\u001b[38;5;250m \u001b[39m\u001b[38;5;21;01mpymongo\u001b[39;00m\u001b[38;5;21;01m.\u001b[39;00m\u001b[38;5;21;01mcommon\u001b[39;00m\u001b[38;5;250m \u001b[39m\u001b[38;5;28;01mimport\u001b[39;00m MAX_SUPPORTED_WIRE_VERSION, MIN_SUPPORTED_WIRE_VERSION\n\u001b[0;32m     91\u001b[0m \u001b[38;5;28;01mfrom\u001b[39;00m\u001b[38;5;250m \u001b[39m\u001b[38;5;21;01mpymongo\u001b[39;00m\u001b[38;5;21;01m.\u001b[39;00m\u001b[38;5;21;01mcursor\u001b[39;00m\u001b[38;5;250m \u001b[39m\u001b[38;5;28;01mimport\u001b[39;00m CursorType\n\u001b[1;32m---> 92\u001b[0m \u001b[38;5;28;01mfrom\u001b[39;00m\u001b[38;5;250m \u001b[39m\u001b[38;5;21;01mpymongo\u001b[39;00m\u001b[38;5;21;01m.\u001b[39;00m\u001b[38;5;21;01mmongo_client\u001b[39;00m\u001b[38;5;250m \u001b[39m\u001b[38;5;28;01mimport\u001b[39;00m MongoClient\n\u001b[0;32m     93\u001b[0m \u001b[38;5;28;01mfrom\u001b[39;00m\u001b[38;5;250m \u001b[39m\u001b[38;5;21;01mpymongo\u001b[39;00m\u001b[38;5;21;01m.\u001b[39;00m\u001b[38;5;21;01moperations\u001b[39;00m\u001b[38;5;250m \u001b[39m\u001b[38;5;28;01mimport\u001b[39;00m (\n\u001b[0;32m     94\u001b[0m     DeleteMany,\n\u001b[0;32m     95\u001b[0m     DeleteOne,\n\u001b[1;32m   (...)\u001b[0m\n\u001b[0;32m    100\u001b[0m     UpdateOne,\n\u001b[0;32m    101\u001b[0m )\n\u001b[0;32m    102\u001b[0m \u001b[38;5;28;01mfrom\u001b[39;00m\u001b[38;5;250m \u001b[39m\u001b[38;5;21;01mpymongo\u001b[39;00m\u001b[38;5;21;01m.\u001b[39;00m\u001b[38;5;21;01mread_preferences\u001b[39;00m\u001b[38;5;250m \u001b[39m\u001b[38;5;28;01mimport\u001b[39;00m ReadPreference\n",
      "File \u001b[1;32md:\\anaconda\\lib\\site-packages\\pymongo\\mongo_client.py:66\u001b[0m\n\u001b[0;32m     64\u001b[0m \u001b[38;5;28;01mfrom\u001b[39;00m\u001b[38;5;250m \u001b[39m\u001b[38;5;21;01mbson\u001b[39;00m\u001b[38;5;21;01m.\u001b[39;00m\u001b[38;5;21;01mson\u001b[39;00m\u001b[38;5;250m \u001b[39m\u001b[38;5;28;01mimport\u001b[39;00m SON\n\u001b[0;32m     65\u001b[0m \u001b[38;5;28;01mfrom\u001b[39;00m\u001b[38;5;250m \u001b[39m\u001b[38;5;21;01mbson\u001b[39;00m\u001b[38;5;21;01m.\u001b[39;00m\u001b[38;5;21;01mtimestamp\u001b[39;00m\u001b[38;5;250m \u001b[39m\u001b[38;5;28;01mimport\u001b[39;00m Timestamp\n\u001b[1;32m---> 66\u001b[0m \u001b[38;5;28;01mfrom\u001b[39;00m\u001b[38;5;250m \u001b[39m\u001b[38;5;21;01mpymongo\u001b[39;00m\u001b[38;5;250m \u001b[39m\u001b[38;5;28;01mimport\u001b[39;00m (\n\u001b[0;32m     67\u001b[0m     _csot,\n\u001b[0;32m     68\u001b[0m     client_session,\n\u001b[0;32m     69\u001b[0m     common,\n\u001b[0;32m     70\u001b[0m     database,\n\u001b[0;32m     71\u001b[0m     helpers,\n\u001b[0;32m     72\u001b[0m     message,\n\u001b[0;32m     73\u001b[0m     periodic_executor,\n\u001b[0;32m     74\u001b[0m     uri_parser,\n\u001b[0;32m     75\u001b[0m )\n\u001b[0;32m     76\u001b[0m \u001b[38;5;28;01mfrom\u001b[39;00m\u001b[38;5;250m \u001b[39m\u001b[38;5;21;01mpymongo\u001b[39;00m\u001b[38;5;21;01m.\u001b[39;00m\u001b[38;5;21;01mchange_stream\u001b[39;00m\u001b[38;5;250m \u001b[39m\u001b[38;5;28;01mimport\u001b[39;00m ChangeStream, ClusterChangeStream\n\u001b[0;32m     77\u001b[0m \u001b[38;5;28;01mfrom\u001b[39;00m\u001b[38;5;250m \u001b[39m\u001b[38;5;21;01mpymongo\u001b[39;00m\u001b[38;5;21;01m.\u001b[39;00m\u001b[38;5;21;01mclient_options\u001b[39;00m\u001b[38;5;250m \u001b[39m\u001b[38;5;28;01mimport\u001b[39;00m ClientOptions\n",
      "File \u001b[1;32md:\\anaconda\\lib\\site-packages\\pymongo\\uri_parser.py:46\u001b[0m\n\u001b[0;32m     38\u001b[0m \u001b[38;5;28;01mfrom\u001b[39;00m\u001b[38;5;250m \u001b[39m\u001b[38;5;21;01mpymongo\u001b[39;00m\u001b[38;5;21;01m.\u001b[39;00m\u001b[38;5;21;01mcommon\u001b[39;00m\u001b[38;5;250m \u001b[39m\u001b[38;5;28;01mimport\u001b[39;00m (\n\u001b[0;32m     39\u001b[0m     INTERNAL_URI_OPTION_NAME_MAP,\n\u001b[0;32m     40\u001b[0m     SRV_SERVICE_NAME,\n\u001b[1;32m   (...)\u001b[0m\n\u001b[0;32m     43\u001b[0m     get_validated_options,\n\u001b[0;32m     44\u001b[0m )\n\u001b[0;32m     45\u001b[0m \u001b[38;5;28;01mfrom\u001b[39;00m\u001b[38;5;250m \u001b[39m\u001b[38;5;21;01mpymongo\u001b[39;00m\u001b[38;5;21;01m.\u001b[39;00m\u001b[38;5;21;01merrors\u001b[39;00m\u001b[38;5;250m \u001b[39m\u001b[38;5;28;01mimport\u001b[39;00m ConfigurationError, InvalidURI\n\u001b[1;32m---> 46\u001b[0m \u001b[38;5;28;01mfrom\u001b[39;00m\u001b[38;5;250m \u001b[39m\u001b[38;5;21;01mpymongo\u001b[39;00m\u001b[38;5;21;01m.\u001b[39;00m\u001b[38;5;21;01msrv_resolver\u001b[39;00m\u001b[38;5;250m \u001b[39m\u001b[38;5;28;01mimport\u001b[39;00m _HAVE_DNSPYTHON, _SrvResolver\n\u001b[0;32m     47\u001b[0m \u001b[38;5;28;01mfrom\u001b[39;00m\u001b[38;5;250m \u001b[39m\u001b[38;5;21;01mpymongo\u001b[39;00m\u001b[38;5;21;01m.\u001b[39;00m\u001b[38;5;21;01mtypings\u001b[39;00m\u001b[38;5;250m \u001b[39m\u001b[38;5;28;01mimport\u001b[39;00m _Address\n\u001b[0;32m     49\u001b[0m \u001b[38;5;28;01mif\u001b[39;00m TYPE_CHECKING:\n",
      "File \u001b[1;32md:\\anaconda\\lib\\site-packages\\pymongo\\srv_resolver.py:23\u001b[0m\n\u001b[0;32m     20\u001b[0m \u001b[38;5;28;01mfrom\u001b[39;00m\u001b[38;5;250m \u001b[39m\u001b[38;5;21;01mtyping\u001b[39;00m\u001b[38;5;250m \u001b[39m\u001b[38;5;28;01mimport\u001b[39;00m Any, List, Optional, Tuple, Union\n\u001b[0;32m     22\u001b[0m \u001b[38;5;28;01mtry\u001b[39;00m:\n\u001b[1;32m---> 23\u001b[0m     \u001b[38;5;28;01mfrom\u001b[39;00m\u001b[38;5;250m \u001b[39m\u001b[38;5;21;01mdns\u001b[39;00m\u001b[38;5;250m \u001b[39m\u001b[38;5;28;01mimport\u001b[39;00m resolver\n\u001b[0;32m     25\u001b[0m     _HAVE_DNSPYTHON \u001b[38;5;241m=\u001b[39m \u001b[38;5;28;01mTrue\u001b[39;00m\n\u001b[0;32m     26\u001b[0m \u001b[38;5;28;01mexcept\u001b[39;00m \u001b[38;5;167;01mImportError\u001b[39;00m:\n",
      "File \u001b[1;32md:\\anaconda\\lib\\site-packages\\dns\\resolver.py:30\u001b[0m\n\u001b[0;32m     27\u001b[0m \u001b[38;5;28;01mfrom\u001b[39;00m\u001b[38;5;250m \u001b[39m\u001b[38;5;21;01mtyping\u001b[39;00m\u001b[38;5;250m \u001b[39m\u001b[38;5;28;01mimport\u001b[39;00m Any, Dict, Iterator, List, Optional, Sequence, Tuple, Union\n\u001b[0;32m     28\u001b[0m \u001b[38;5;28;01mfrom\u001b[39;00m\u001b[38;5;250m \u001b[39m\u001b[38;5;21;01murllib\u001b[39;00m\u001b[38;5;21;01m.\u001b[39;00m\u001b[38;5;21;01mparse\u001b[39;00m\u001b[38;5;250m \u001b[39m\u001b[38;5;28;01mimport\u001b[39;00m urlparse\n\u001b[1;32m---> 30\u001b[0m \u001b[38;5;28;01mimport\u001b[39;00m\u001b[38;5;250m \u001b[39m\u001b[38;5;21;01mdns\u001b[39;00m\u001b[38;5;21;01m.\u001b[39;00m\u001b[38;5;21;01m_ddr\u001b[39;00m\n\u001b[0;32m     31\u001b[0m \u001b[38;5;28;01mimport\u001b[39;00m\u001b[38;5;250m \u001b[39m\u001b[38;5;21;01mdns\u001b[39;00m\u001b[38;5;21;01m.\u001b[39;00m\u001b[38;5;21;01medns\u001b[39;00m\n\u001b[0;32m     32\u001b[0m \u001b[38;5;28;01mimport\u001b[39;00m\u001b[38;5;250m \u001b[39m\u001b[38;5;21;01mdns\u001b[39;00m\u001b[38;5;21;01m.\u001b[39;00m\u001b[38;5;21;01mexception\u001b[39;00m\n",
      "File \u001b[1;32md:\\anaconda\\lib\\site-packages\\dns\\_ddr.py:12\u001b[0m\n\u001b[0;32m     10\u001b[0m \u001b[38;5;28;01mimport\u001b[39;00m\u001b[38;5;250m \u001b[39m\u001b[38;5;21;01mdns\u001b[39;00m\u001b[38;5;21;01m.\u001b[39;00m\u001b[38;5;21;01minet\u001b[39;00m\n\u001b[0;32m     11\u001b[0m \u001b[38;5;28;01mimport\u001b[39;00m\u001b[38;5;250m \u001b[39m\u001b[38;5;21;01mdns\u001b[39;00m\u001b[38;5;21;01m.\u001b[39;00m\u001b[38;5;21;01mname\u001b[39;00m\n\u001b[1;32m---> 12\u001b[0m \u001b[38;5;28;01mimport\u001b[39;00m\u001b[38;5;250m \u001b[39m\u001b[38;5;21;01mdns\u001b[39;00m\u001b[38;5;21;01m.\u001b[39;00m\u001b[38;5;21;01mnameserver\u001b[39;00m\n\u001b[0;32m     13\u001b[0m \u001b[38;5;28;01mimport\u001b[39;00m\u001b[38;5;250m \u001b[39m\u001b[38;5;21;01mdns\u001b[39;00m\u001b[38;5;21;01m.\u001b[39;00m\u001b[38;5;21;01mquery\u001b[39;00m\n\u001b[0;32m     14\u001b[0m \u001b[38;5;28;01mimport\u001b[39;00m\u001b[38;5;250m \u001b[39m\u001b[38;5;21;01mdns\u001b[39;00m\u001b[38;5;21;01m.\u001b[39;00m\u001b[38;5;21;01mrdtypes\u001b[39;00m\u001b[38;5;21;01m.\u001b[39;00m\u001b[38;5;21;01msvcbbase\u001b[39;00m\n",
      "File \u001b[1;32md:\\anaconda\\lib\\site-packages\\dns\\nameserver.py:5\u001b[0m\n\u001b[0;32m      2\u001b[0m \u001b[38;5;28;01mfrom\u001b[39;00m\u001b[38;5;250m \u001b[39m\u001b[38;5;21;01murllib\u001b[39;00m\u001b[38;5;21;01m.\u001b[39;00m\u001b[38;5;21;01mparse\u001b[39;00m\u001b[38;5;250m \u001b[39m\u001b[38;5;28;01mimport\u001b[39;00m urlparse\n\u001b[0;32m      4\u001b[0m \u001b[38;5;28;01mimport\u001b[39;00m\u001b[38;5;250m \u001b[39m\u001b[38;5;21;01mdns\u001b[39;00m\u001b[38;5;21;01m.\u001b[39;00m\u001b[38;5;21;01masyncbackend\u001b[39;00m\n\u001b[1;32m----> 5\u001b[0m \u001b[38;5;28;01mimport\u001b[39;00m\u001b[38;5;250m \u001b[39m\u001b[38;5;21;01mdns\u001b[39;00m\u001b[38;5;21;01m.\u001b[39;00m\u001b[38;5;21;01masyncquery\u001b[39;00m\n\u001b[0;32m      6\u001b[0m \u001b[38;5;28;01mimport\u001b[39;00m\u001b[38;5;250m \u001b[39m\u001b[38;5;21;01mdns\u001b[39;00m\u001b[38;5;21;01m.\u001b[39;00m\u001b[38;5;21;01minet\u001b[39;00m\n\u001b[0;32m      7\u001b[0m \u001b[38;5;28;01mimport\u001b[39;00m\u001b[38;5;250m \u001b[39m\u001b[38;5;21;01mdns\u001b[39;00m\u001b[38;5;21;01m.\u001b[39;00m\u001b[38;5;21;01mmessage\u001b[39;00m\n",
      "File \u001b[1;32md:\\anaconda\\lib\\site-packages\\dns\\asyncquery.py:38\u001b[0m\n\u001b[0;32m     36\u001b[0m \u001b[38;5;28;01mimport\u001b[39;00m\u001b[38;5;250m \u001b[39m\u001b[38;5;21;01mdns\u001b[39;00m\u001b[38;5;21;01m.\u001b[39;00m\u001b[38;5;21;01mtransaction\u001b[39;00m\n\u001b[0;32m     37\u001b[0m \u001b[38;5;28;01mfrom\u001b[39;00m\u001b[38;5;250m \u001b[39m\u001b[38;5;21;01mdns\u001b[39;00m\u001b[38;5;21;01m.\u001b[39;00m\u001b[38;5;21;01m_asyncbackend\u001b[39;00m\u001b[38;5;250m \u001b[39m\u001b[38;5;28;01mimport\u001b[39;00m NullContext\n\u001b[1;32m---> 38\u001b[0m \u001b[38;5;28;01mfrom\u001b[39;00m\u001b[38;5;250m \u001b[39m\u001b[38;5;21;01mdns\u001b[39;00m\u001b[38;5;21;01m.\u001b[39;00m\u001b[38;5;21;01mquery\u001b[39;00m\u001b[38;5;250m \u001b[39m\u001b[38;5;28;01mimport\u001b[39;00m (\n\u001b[0;32m     39\u001b[0m     BadResponse,\n\u001b[0;32m     40\u001b[0m     NoDOH,\n\u001b[0;32m     41\u001b[0m     NoDOQ,\n\u001b[0;32m     42\u001b[0m     UDPMode,\n\u001b[0;32m     43\u001b[0m     _compute_times,\n\u001b[0;32m     44\u001b[0m     _have_http2,\n\u001b[0;32m     45\u001b[0m     _matches_destination,\n\u001b[0;32m     46\u001b[0m     _remaining,\n\u001b[0;32m     47\u001b[0m     have_doh,\n\u001b[0;32m     48\u001b[0m     ssl,\n\u001b[0;32m     49\u001b[0m )\n\u001b[0;32m     51\u001b[0m \u001b[38;5;28;01mif\u001b[39;00m have_doh:\n\u001b[0;32m     52\u001b[0m     \u001b[38;5;28;01mimport\u001b[39;00m\u001b[38;5;250m \u001b[39m\u001b[38;5;21;01mhttpx\u001b[39;00m\n",
      "File \u001b[1;32md:\\anaconda\\lib\\site-packages\\dns\\query.py:67\u001b[0m\n\u001b[0;32m     64\u001b[0m \u001b[38;5;28;01mimport\u001b[39;00m\u001b[38;5;250m \u001b[39m\u001b[38;5;21;01mhttpcore\u001b[39;00m\u001b[38;5;21;01m.\u001b[39;00m\u001b[38;5;21;01m_backends\u001b[39;00m\u001b[38;5;21;01m.\u001b[39;00m\u001b[38;5;21;01msync\u001b[39;00m\n\u001b[0;32m     65\u001b[0m \u001b[38;5;28;01mimport\u001b[39;00m\u001b[38;5;250m \u001b[39m\u001b[38;5;21;01mhttpx\u001b[39;00m\n\u001b[1;32m---> 67\u001b[0m _CoreNetworkBackend \u001b[38;5;241m=\u001b[39m \u001b[43mhttpcore\u001b[49m\u001b[38;5;241;43m.\u001b[39;49m\u001b[43mNetworkBackend\u001b[49m\n\u001b[0;32m     68\u001b[0m _CoreSyncStream \u001b[38;5;241m=\u001b[39m httpcore\u001b[38;5;241m.\u001b[39m_backends\u001b[38;5;241m.\u001b[39msync\u001b[38;5;241m.\u001b[39mSyncStream\n\u001b[0;32m     70\u001b[0m _have_httpx \u001b[38;5;241m=\u001b[39m \u001b[38;5;28;01mTrue\u001b[39;00m\n",
      "\u001b[1;31mAttributeError\u001b[0m: module 'httpcore' has no attribute 'NetworkBackend'"
     ]
    }
   ],
   "source": [
    "from pymongo import MongoClient"
   ]
  },
  {
   "cell_type": "code",
   "execution_count": null,
   "metadata": {},
   "outputs": [],
   "source": []
  },
  {
   "cell_type": "code",
   "execution_count": null,
   "metadata": {},
   "outputs": [],
   "source": []
  },
  {
   "cell_type": "code",
   "execution_count": 11,
   "metadata": {},
   "outputs": [],
   "source": [
    "a=[{'name':'vinit'}]"
   ]
  },
  {
   "cell_type": "code",
   "execution_count": 14,
   "metadata": {},
   "outputs": [
    {
     "data": {
      "text/plain": [
       "'vinit'"
      ]
     },
     "execution_count": 14,
     "metadata": {},
     "output_type": "execute_result"
    }
   ],
   "source": [
    "a[0].get('name')"
   ]
  },
  {
   "cell_type": "code",
   "execution_count": null,
   "metadata": {},
   "outputs": [],
   "source": []
  },
  {
   "cell_type": "code",
   "execution_count": 29,
   "metadata": {},
   "outputs": [],
   "source": [
    "data={\n",
    "    \"_id\": \"Neem\",\n",
    "    \"Neem\": [\n",
    "        \"./static/data/image/Neem/Neem-Full.jpg\",\n",
    "        \"./static/data/image/Neem/Neem-Leaf.png\",\n",
    "        \"Azadirachta indica\",\n",
    "        [\"neem\", \"nim tree\", \"Indian lilac\", \"margosa tree\"],\n",
    "        {\n",
    "            \"habitat\": {\n",
    "                \"Regions\": \"Dry, arid, and semi-arid areas with low rainfall.\",\n",
    "                \"Soil Type\": \"Well-drained, sandy, or rocky soils; it tolerates poor and degraded soils.\",\n",
    "                \"Climate\": \"Hot climates with temperatures ranging from 25°C to 40°C; resistant to drought and thrives in areas with annual rainfall between 450 mm and 1200 mm.\",\n",
    "                \"Altitude\": \"Grows up to elevations of 1500 meters above sea level.\",\n",
    "                \"Common Locations\": \"Roadsides, farmland boundaries, and urban areas as shade trees due to their resilience and adaptability.\"\n",
    "            }\n",
    "        },\n",
    "        {\n",
    "            \"medicinal uses\": {\n",
    "                \"Skin Health\": \"Neem is widely used in treating acne, eczema, and other skin conditions due to its antibacterial and anti-inflammatory properties.\",\n",
    "                \"Oral Hygiene\": \"Neem twigs and extracts are used in toothpaste and mouthwash for preventing gum diseases and maintaining oral health.\",\n",
    "                \"Blood Purification\": \"Neem helps detoxify the blood, improving overall health and combating various infections.\",\n",
    "                \"Immune Booster\": \"Regular use of neem can strengthen the immune system due to its antimicrobial and antioxidant properties.\",\n",
    "                \"Digestive Aid\": \"Neem helps alleviate ulcers, intestinal worms, and other digestive issues.\"\n",
    "            }\n",
    "        },\n",
    "        {\n",
    "            \"methods of cultivation\": {\n",
    "                \"Climate and Soil Requirements\": \"Neem thrives in tropical and subtropical regions with temperatures between 25°C to 40°C\",\n",
    "                \"Propagation\": \"Neem is propagated primarily through seeds.\",\n",
    "                \"Sowing\": \"Seeds can be sown directly in the field or in nursery beds for transplantation.\",\n",
    "                \"Irrigation\": \"Neem trees are drought-tolerant and require minimal watering after establishment.\",\n",
    "                \"Fertilization\": \"Apply organic manure or compost during the planting stage to promote growth.\",\n",
    "                \"Harvesting\": \"Neem trees begin to produce seeds after 3-5 years.\",\n",
    "                \"Additional Care\": \"Mulching around the base can retain soil moisture and prevent weed growth.\",\n",
    "                \"vedio link\": \"https://www.youtube.com/embed/QZY_j0b15BU?si=Z8_Lbh0lcepPKgtT\"\n",
    "            }\n",
    "        }\n",
    "    ]\n",
    "}"
   ]
  },
  {
   "cell_type": "code",
   "execution_count": 19,
   "metadata": {},
   "outputs": [
    {
     "data": {
      "text/plain": [
       "'https://drive.google.com/file/d/1wAu7n43KF7UWFkIq-YeISUVhfaz3x9sk/view?usp=sharing'"
      ]
     },
     "execution_count": 19,
     "metadata": {},
     "output_type": "execute_result"
    }
   ],
   "source": [
    "data['Neem'][0]"
   ]
  },
  {
   "cell_type": "code",
   "execution_count": 20,
   "metadata": {},
   "outputs": [
    {
     "data": {
      "text/plain": [
       "'https://drive.google.com/file/d/1sSXGqicStoaAFFuQqOmgPRwq0YetbklC/view?usp=sharing'"
      ]
     },
     "execution_count": 20,
     "metadata": {},
     "output_type": "execute_result"
    }
   ],
   "source": [
    "data['Neem'][1]"
   ]
  },
  {
   "cell_type": "code",
   "execution_count": 21,
   "metadata": {},
   "outputs": [
    {
     "data": {
      "text/plain": [
       "'Azadirachta indica'"
      ]
     },
     "execution_count": 21,
     "metadata": {},
     "output_type": "execute_result"
    }
   ],
   "source": [
    "data['Neem'][2]"
   ]
  },
  {
   "cell_type": "code",
   "execution_count": 22,
   "metadata": {},
   "outputs": [
    {
     "data": {
      "text/plain": [
       "['neem', 'nim tree', 'Indian lilac', 'margosa tree']"
      ]
     },
     "execution_count": 22,
     "metadata": {},
     "output_type": "execute_result"
    }
   ],
   "source": [
    "data['Neem'][3]"
   ]
  },
  {
   "cell_type": "code",
   "execution_count": 23,
   "metadata": {},
   "outputs": [
    {
     "data": {
      "text/plain": [
       "{'habitat': {'Regions': 'Dry, arid, and semi-arid areas with low rainfall.',\n",
       "  'Soil Type': 'Well-drained, sandy, or rocky soils; it tolerates poor and degraded soils.',\n",
       "  'Climate': 'Hot climates with temperatures ranging from 25°C to 40°C; resistant to drought and thrives in areas with annual rainfall between 450 mm and 1200 mm.',\n",
       "  'Altitude': 'Grows up to elevations of 1500 meters above sea level.',\n",
       "  'Common Locations': 'Roadsides, farmland boundaries, and urban areas as shade trees due to their resilience and adaptability.'}}"
      ]
     },
     "execution_count": 23,
     "metadata": {},
     "output_type": "execute_result"
    }
   ],
   "source": [
    "data['Neem'][4]"
   ]
  },
  {
   "cell_type": "code",
   "execution_count": 24,
   "metadata": {},
   "outputs": [
    {
     "data": {
      "text/plain": [
       "{'medicinal uses': {'Skin Health': 'Neem is widely used in treating acne, eczema, and other skin conditions due to its antibacterial and anti-inflammatory properties.',\n",
       "  'Oral Hygiene': 'Neem twigs and extracts are used in toothpaste and mouthwash for preventing gum diseases and maintaining oral health.',\n",
       "  'Blood Purification': 'Neem helps detoxify the blood, improving overall health and combating various infections.',\n",
       "  'Immune Booster': 'Regular use of neem can strengthen the immune system due to its antimicrobial and antioxidant properties.',\n",
       "  'Digestive Aid': 'Neem helps alleviate ulcers, intestinal worms, and other digestive issues.'}}"
      ]
     },
     "execution_count": 24,
     "metadata": {},
     "output_type": "execute_result"
    }
   ],
   "source": [
    "data['Neem'][5]"
   ]
  },
  {
   "cell_type": "code",
   "execution_count": 25,
   "metadata": {},
   "outputs": [
    {
     "data": {
      "text/plain": [
       "{'methods of cultivation': {'Climate and Soil Requirements': 'Neem thrives in tropical and subtropical regions with temperatures between 25°C to 40°C',\n",
       "  'Propagation': 'Neem is propagated primarily through seeds.',\n",
       "  'Sowing': 'Seeds can be sown directly in the field or in nursery beds for transplantation.',\n",
       "  'Irrigation': 'Neem trees are drought-tolerant and require minimal watering after establishment.',\n",
       "  'Fertilization': 'Apply organic manure or compost during the planting stage to promote growth.',\n",
       "  'Harvesting': 'Neem trees begin to produce seeds after 3-5 years.',\n",
       "  'Additional Care': 'Mulching around the base can retain soil moisture and prevent weed growth.',\n",
       "  'vedio link': 'https://www.youtube.com/watch?v=QZY_j0b15BU'}}"
      ]
     },
     "execution_count": 25,
     "metadata": {},
     "output_type": "execute_result"
    }
   ],
   "source": [
    "data['Neem'][6]"
   ]
  },
  {
   "cell_type": "code",
   "execution_count": 26,
   "metadata": {},
   "outputs": [
    {
     "data": {
      "text/plain": [
       "{'categories': {'Ayurveda': ['Ashwagandha',\n",
       "   'Neem',\n",
       "   'Amla',\n",
       "   'Tulsi',\n",
       "   'Turmeric'],\n",
       "  'Yoga & Naturopathy': ['Wheatgrass',\n",
       "   'Aloe Vera',\n",
       "   'Lemongrass',\n",
       "   'Mint',\n",
       "   'Giloy'],\n",
       "  'Unani': ['Asal-us-soos', 'Habb-ul-Asar', 'Zafran', 'Arq Gulab', 'Balela'],\n",
       "  'Siddha': ['Thoothuvalai', 'Adathodai', 'Nannari', 'Keezhanelli', 'Kumari'],\n",
       "  'Homeopathy': ['Arnica montana',\n",
       "   'Calendula officinalis',\n",
       "   'Chamomilla',\n",
       "   'Belladonna',\n",
       "   'Nux vomica']}}"
      ]
     },
     "execution_count": 26,
     "metadata": {},
     "output_type": "execute_result"
    }
   ],
   "source": [
    "{\n",
    "  \"categories\": {\n",
    "    \"Ayurveda\": [\"Ashwagandha\", \"Neem\", \"Amla\", \"Tulsi\", \"Turmeric\"],\n",
    "    \"Yoga & Naturopathy\": [\"Wheatgrass\",\"Aloe Vera\",\"Lemongrass\",\"Mint\",\"Giloy\"],\n",
    "    \"Unani\": [\"Asal-us-soos\", \"Habb-ul-Asar\", \"Zafran\",\"Arq Gulab\",\"Balela\"],\n",
    "    \"Siddha\": [\"Thoothuvalai\", \"Adathodai\", \"Nannari\",\"Keezhanelli\",\"Kumari\"],\n",
    "    \"Homeopathy\": [\"Arnica montana\", \"Calendula officinalis\", \"Chamomilla\",\"Belladonna\",\"Nux vomica\"]\n",
    "  }\n",
    "}\n"
   ]
  },
  {
   "cell_type": "code",
   "execution_count": 1,
   "metadata": {},
   "outputs": [],
   "source": [
    "quiz_data={\n",
    "    '_id':'1',\n",
    "    'ques':'what is plant?',\n",
    "    'option1':'plant',\n",
    "    'option2':'ped',\n",
    "    'option3':'tree',\n",
    "    'option4':'paudha',\n",
    "    'correct_option':'option2',\n",
    "    'Explanation':'plant is a ped'\n",
    "}"
   ]
  }
 ],
 "metadata": {
  "kernelspec": {
   "display_name": "base",
   "language": "python",
   "name": "python3"
  },
  "language_info": {
   "codemirror_mode": {
    "name": "ipython",
    "version": 3
   },
   "file_extension": ".py",
   "mimetype": "text/x-python",
   "name": "python",
   "nbconvert_exporter": "python",
   "pygments_lexer": "ipython3",
   "version": "3.10.13"
  }
 },
 "nbformat": 4,
 "nbformat_minor": 2
}
